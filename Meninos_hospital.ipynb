{
  "nbformat": 4,
  "nbformat_minor": 0,
  "metadata": {
    "colab": {
      "name": "Meninos hospital.ipynb",
      "provenance": [],
      "authorship_tag": "ABX9TyO1qj5VjmoRRwkIrLZcibsP",
      "include_colab_link": true
    },
    "kernelspec": {
      "name": "python3",
      "display_name": "Python 3"
    }
  },
  "cells": [
    {
      "cell_type": "markdown",
      "metadata": {
        "id": "view-in-github",
        "colab_type": "text"
      },
      "source": [
        "<a href=\"https://colab.research.google.com/github/bootstrap666/refactored-octo-rotary-phone/blob/master/Meninos_hospital.ipynb\" target=\"_parent\"><img src=\"https://colab.research.google.com/assets/colab-badge.svg\" alt=\"Open In Colab\"/></a>"
      ]
    },
    {
      "cell_type": "code",
      "metadata": {
        "id": "A_CQoH_Q21j-",
        "colab_type": "code",
        "colab": {}
      },
      "source": [
        "from scipy.stats import binom\n",
        "import numpy as np\n",
        "import matplotlib.pyplot as plt"
      ],
      "execution_count": 37,
      "outputs": []
    },
    {
      "cell_type": "code",
      "metadata": {
        "id": "Np1o0ZAA7fKf",
        "colab_type": "code",
        "colab": {
          "base_uri": "https://localhost:8080/",
          "height": 282
        },
        "outputId": "cb53ec11-8e2e-4f46-e419-c86e4e18f204"
      },
      "source": [
        "# No Hospital com 45 nascimentos por dia, o total de nascimento de meninos é \n",
        "# modelado aproximadamente por uma distribuição binomial com n=45 (nascimentos \n",
        "# por dia), p=q=0.5 (probabilidade de nascimento de meninos igual ao nascimento \n",
        "# de meninas)\n",
        "N1 = 45\n",
        "fig, ax = plt.subplots(1, 1)\n",
        "n, p = N1, 0.5\n",
        "k = np.linspace(0.0, N1, num=N1+1)\n",
        "p45 = binom.pmf(k,n,p)\n",
        "ax.plot(k, p45, 'bo', ms=8, label='Hospital 1')"
      ],
      "execution_count": 38,
      "outputs": [
        {
          "output_type": "execute_result",
          "data": {
            "text/plain": [
              "[<matplotlib.lines.Line2D at 0x7f927981d780>]"
            ]
          },
          "metadata": {
            "tags": []
          },
          "execution_count": 38
        },
        {
          "output_type": "display_data",
          "data": {
            "image/png": "[encoded data removed]",
            "text/plain": [
              "<Figure size 432x288 with 1 Axes>"
            ]
          },
          "metadata": {
            "tags": [],
            "needs_background": "light"
          }
        }
      ]
    },
    {
      "cell_type": "code",
      "metadata": {
        "id": "3i7DSA1m8hM9",
        "colab_type": "code",
        "colab": {
          "base_uri": "https://localhost:8080/",
          "height": 34
        },
        "outputId": "4193e782-1048-4c91-ec03-14183fb7f7a4"
      },
      "source": [
        "# No Hospital 1, a probabilidade de nascerem mais de 60% de meninos é a soma das \n",
        "# probabilidades de nascerem k meninos com k variando entre ceil(0.6*45) até 45.\n",
        "# Alternativamente, o evento complementar é o nascimento de k meninos com k \n",
        "# variando de 0 até ceil(0.6*45)-1 que é medido diretamente pela função\n",
        "# distribuição\n",
        "pm45 = 1.0 - binom.cdf(np.ceil(N1*0.6)-1,n,p)\n",
        "print(pm45)"
      ],
      "execution_count": 39,
      "outputs": [
        {
          "output_type": "stream",
          "text": [
            "0.11634659595415531\n"
          ],
          "name": "stdout"
        }
      ]
    },
    {
      "cell_type": "code",
      "metadata": {
        "id": "LdYRz3kx3Ll7",
        "colab_type": "code",
        "colab": {
          "base_uri": "https://localhost:8080/",
          "height": 282
        },
        "outputId": "b01aba60-1b4a-47e7-e43e-dafd355177a6"
      },
      "source": [
        "# No Hospital com 15 nascimentos por dia, o total de nascimento de meninos é \n",
        "# modelado aproximadamente por uma distribuição binomial com n=15 (nascimentos \n",
        "# por dia), p=q=0.5 (probabilidade de nascimento de meninos igual ao nascimento \n",
        "# de meninas)\n",
        "N2 = 15\n",
        "fig, ax = plt.subplots(1, 1)\n",
        "n, p = N2, 0.5\n",
        "k = np.linspace(0.0, N2, num=N2+1)\n",
        "p45 = binom.pmf(k,n,p)\n",
        "ax.plot(k, p45, 'bo', ms=8, label='Hospital 2')"
      ],
      "execution_count": 40,
      "outputs": [
        {
          "output_type": "execute_result",
          "data": {
            "text/plain": [
              "[<matplotlib.lines.Line2D at 0x7f92796edf98>]"
            ]
          },
          "metadata": {
            "tags": []
          },
          "execution_count": 40
        },
        {
          "output_type": "display_data",
          "data": {
            "image/png": "[encoded data removed]",
            "text/plain": [
              "<Figure size 432x288 with 1 Axes>"
            ]
          },
          "metadata": {
            "tags": [],
            "needs_background": "light"
          }
        }
      ]
    },
    {
      "cell_type": "code",
      "metadata": {
        "id": "jsXVQjO7A-4T",
        "colab_type": "code",
        "colab": {
          "base_uri": "https://localhost:8080/",
          "height": 34
        },
        "outputId": "5b3aa3e3-c2a2-4687-acc1-aa17323165a7"
      },
      "source": [
        "# No Hospital 1, a probabilidade de nascerem mais de 60% de meninos é a soma das \n",
        "# probabilidades de nascerem k meninos com k variando entre ceil(0.6*15) até 15.\n",
        "# Alternativamente, o evento complementar é o nascimento de k meninos com k \n",
        "# variando de 0 até ceil(0.6*15)-1 que é medido diretamente pela função \n",
        "# distribuição (cdf)\n",
        "pm15 = 1.0 - binom.cdf(np.ceil(N2*0.6)-1,n,p)\n",
        "print(pm15)"
      ],
      "execution_count": 41,
      "outputs": [
        {
          "output_type": "stream",
          "text": [
            "0.303619384765625\n"
          ],
          "name": "stdout"
        }
      ]
    },
    {
      "cell_type": "code",
      "metadata": {
        "id": "3X4f6E2hBseB",
        "colab_type": "code",
        "colab": {}
      },
      "source": [
        ""
      ],
      "execution_count": null,
      "outputs": []
    }
  ]
}